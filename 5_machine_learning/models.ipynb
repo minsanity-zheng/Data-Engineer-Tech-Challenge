{
  "cells": [
    {
      "cell_type": "code",
      "source": [
        "from sklearn.model_selection import train_test_split\n",
        "import numpy as np\n",
        "import pandas as pd"
      ],
      "metadata": {
        "id": "L1qAY08XnmpH"
      },
      "execution_count": 166,
      "outputs": []
    },
    {
      "cell_type": "markdown",
      "source": [
        "# Fix random seed for reproducibility"
      ],
      "metadata": {
        "id": "EgHU_koLdnwU"
      }
    },
    {
      "cell_type": "code",
      "source": [
        "\n",
        "seed = 7\n",
        "np.random.seed(seed)"
      ],
      "metadata": {
        "id": "v-MwzZV4qVUD"
      },
      "execution_count": 167,
      "outputs": []
    },
    {
      "cell_type": "markdown",
      "source": [
        "# load preprocess car dataset"
      ],
      "metadata": {
        "id": "-FCmSraqd4w3"
      }
    },
    {
      "cell_type": "code",
      "source": [
        "dataset = pd.read_csv('car.data',header = None)"
      ],
      "metadata": {
        "id": "-gXzKcXGqYmn"
      },
      "execution_count": 168,
      "outputs": []
    },
    {
      "cell_type": "markdown",
      "source": [
        "##Create mapping for ordinal value to numeric"
      ],
      "metadata": {
        "id": "fsg9x4w6d9OZ"
      }
    },
    {
      "cell_type": "code",
      "source": [
        "dataMapping_rank = {\"vhigh\":4, \"high\":3, \"med\":2, \"low\":1}\n",
        "dataMapping_size = {\"big\":3, \"med\":2, \"small\":1}\n",
        "dataMapping_num = {\"2\":2, \"3\":3, \"4\":4, \"5more\":5, \"more\":5}\n",
        "dataMapping_grade = {\"unacc\":1, \"acc\":2, \"good\":3, \"vgood\":4}"
      ],
      "metadata": {
        "id": "CkGhIS8WwzuL"
      },
      "execution_count": 169,
      "outputs": []
    },
    {
      "cell_type": "code",
      "source": [
        "dataset['buying'] = dataset.iloc[:, 0].map(dataMapping_rank)\n",
        "dataset['maint'] = dataset.iloc[:, 1].map(dataMapping_rank)\n",
        "dataset['doors'] = dataset.iloc[:, 2].map(dataMapping_num)\n",
        "dataset['persons'] = dataset.iloc[:, 3].map(dataMapping_num)\n",
        "dataset['lug_boot'] = dataset.iloc[:, 4].map(dataMapping_size)\n",
        "dataset['safety'] = dataset.iloc[:, 5].map(dataMapping_rank)\n",
        "dataset['class'] = dataset.iloc[:, 6].map(dataMapping_grade)"
      ],
      "metadata": {
        "id": "LcSvOJIFx6X3"
      },
      "execution_count": 170,
      "outputs": []
    },
    {
      "cell_type": "markdown",
      "source": [
        "# split into input (X) and output (y) variables"
      ],
      "metadata": {
        "id": "fHceM4pCeMQg"
      }
    },
    {
      "cell_type": "code",
      "source": [
        "X = dataset.iloc[:, 8:14]\n",
        "y = dataset.iloc[:, 7]"
      ],
      "metadata": {
        "id": "c2eHM0s-sKj_"
      },
      "execution_count": 171,
      "outputs": []
    },
    {
      "cell_type": "markdown",
      "source": [
        "# split training and testing set"
      ],
      "metadata": {
        "id": "8Cq1vOp7eRY6"
      }
    },
    {
      "cell_type": "code",
      "source": [
        "X_train,X_test,y_train,y_test = train_test_split(X,y,test_size=1/3,random_state=42, stratify=y)"
      ],
      "metadata": {
        "id": "LFzAruMAti73"
      },
      "execution_count": 172,
      "outputs": []
    },
    {
      "cell_type": "markdown",
      "source": [
        "# Random Forest Model"
      ],
      "metadata": {
        "id": "5j7XkM-qdZ_8"
      }
    },
    {
      "cell_type": "markdown",
      "source": [
        "##train and evalutate model"
      ],
      "metadata": {
        "id": "nN-G7L3Lf_VF"
      }
    },
    {
      "cell_type": "code",
      "source": [
        "from sklearn.ensemble import RandomForestClassifier\n",
        "model = RandomForestClassifier(n_estimators=1000)\n",
        "model.fit(X_train, y_train)\n",
        "ypred = model.predict(X_test)"
      ],
      "metadata": {
        "id": "bs3VEE2_t325"
      },
      "execution_count": 173,
      "outputs": []
    },
    {
      "cell_type": "markdown",
      "source": [
        "## model accuracy"
      ],
      "metadata": {
        "id": "bviY3JzegCyq"
      }
    },
    {
      "cell_type": "code",
      "source": [
        "from sklearn import metrics\n",
        "print(metrics.classification_report(ypred, y_test))"
      ],
      "metadata": {
        "colab": {
          "base_uri": "https://localhost:8080/"
        },
        "id": "w_tmoxc4SgET",
        "outputId": "66dbea2a-abd0-4b96-bb81-73032dc2b580"
      },
      "execution_count": 174,
      "outputs": [
        {
          "output_type": "stream",
          "name": "stdout",
          "text": [
            "              precision    recall  f1-score   support\n",
            "\n",
            "           1       0.15      0.13      0.14       167\n",
            "           2       0.06      0.06      0.06       133\n",
            "           3       0.07      0.07      0.07       149\n",
            "           4       0.14      0.16      0.15       127\n",
            "\n",
            "    accuracy                           0.10       576\n",
            "   macro avg       0.10      0.10      0.10       576\n",
            "weighted avg       0.11      0.10      0.10       576\n",
            "\n"
          ]
        }
      ]
    },
    {
      "cell_type": "code",
      "source": [
        "model.predict(pd.DataFrame([[3,4,0,3,3,3]]))"
      ],
      "metadata": {
        "colab": {
          "base_uri": "https://localhost:8080/"
        },
        "id": "2PbQZWFW2Dg0",
        "outputId": "eb4d6491-d80e-45c3-8568-532b9a345adc"
      },
      "execution_count": 175,
      "outputs": [
        {
          "output_type": "stream",
          "name": "stderr",
          "text": [
            "/usr/local/lib/python3.7/dist-packages/sklearn/base.py:451: UserWarning: X does not have valid feature names, but RandomForestClassifier was fitted with feature names\n",
            "  \"X does not have valid feature names, but\"\n"
          ]
        },
        {
          "output_type": "execute_result",
          "data": {
            "text/plain": [
              "array([1])"
            ]
          },
          "metadata": {},
          "execution_count": 175
        }
      ]
    },
    {
      "cell_type": "markdown",
      "source": [
        "Result for \n",
        "- Maintenance = High\n",
        "- Number of doors = 4\n",
        "- Lug Boot Size = Big\n",
        "- Safety = High\n",
        "- Class Value = Good\n",
        "\n",
        "\"low\" for prediction of buying"
      ],
      "metadata": {
        "id": "JIeN4ndgebaU"
      }
    },
    {
      "cell_type": "code",
      "source": [
        "import tensorflow as tf\n",
        "\n",
        "from keras.models import Sequential\n",
        "from keras.layers import Dense\n",
        "from keras.layers import Flatten\n",
        "from keras.layers import Dropout\n",
        "from keras.layers.convolutional import Conv1D\n",
        "from keras.layers.convolutional import MaxPooling1D\n",
        "from tensorflow.keras.utils import to_categorical"
      ],
      "metadata": {
        "id": "-Tj9opW0l-8T"
      },
      "execution_count": 180,
      "outputs": []
    },
    {
      "cell_type": "markdown",
      "source": [
        "#preprocess data for CNN Deep Learning Model"
      ],
      "metadata": {
        "id": "tAjn8svffD4X"
      }
    },
    {
      "cell_type": "code",
      "source": [
        "X_train_tup = X_train.to_numpy()\n",
        "X_test_tup = X_test.to_numpy()"
      ],
      "metadata": {
        "id": "cPmQlOsOxwDE"
      },
      "execution_count": 183,
      "outputs": []
    },
    {
      "cell_type": "code",
      "source": [
        "y_train_dl = to_categorical(list(y_train))\n",
        "y_test_dl = to_categorical(list(y_test))"
      ],
      "metadata": {
        "id": "LKFZIZ6XxyEw"
      },
      "execution_count": 184,
      "outputs": []
    },
    {
      "cell_type": "markdown",
      "source": [
        "##function for model deigne base on the input and output size"
      ],
      "metadata": {
        "id": "T-uGiHtLfL9o"
      }
    },
    {
      "cell_type": "code",
      "source": [
        "from keras.engine.training import Model\n",
        "# fit and evaluate a model\n",
        "def define_model(n_input, n_out, n_filters):\n",
        "\tmodel = Sequential()\n",
        "\tmodel.add(Conv1D(filters=n_filters, kernel_size=3, activation='relu', input_shape=n_input))\n",
        "\tmodel.add(Conv1D(filters=n_filters, kernel_size=3, activation='relu'))\n",
        "\tmodel.add(Dropout(0.5))\n",
        "\tmodel.add(MaxPooling1D(pool_size=2))\n",
        "\tmodel.add(Flatten())\n",
        "\tmodel.add(Dense(100, activation='relu'))\n",
        "\tmodel.add(Dense(n_out, activation='softmax'))\n",
        "\tmodel.compile(loss='categorical_crossentropy', optimizer='adam', metrics=['accuracy'])\n",
        "\treturn model"
      ],
      "metadata": {
        "id": "zlDLaiRhzeVo"
      },
      "execution_count": 186,
      "outputs": []
    },
    {
      "cell_type": "markdown",
      "source": [
        "##generate CNN model"
      ],
      "metadata": {
        "id": "cYf5X4VMffC7"
      }
    },
    {
      "cell_type": "code",
      "source": [
        "model = define_model((X_train_tup.shape[1],1),y_train_dl.shape[1], 8)"
      ],
      "metadata": {
        "id": "Rfo7iF5g4Tbd"
      },
      "execution_count": 187,
      "outputs": []
    },
    {
      "cell_type": "markdown",
      "source": [
        "##illustrartion of model"
      ],
      "metadata": {
        "id": "-yPIZsFgfgOR"
      }
    },
    {
      "cell_type": "code",
      "source": [
        "model.summary()"
      ],
      "metadata": {
        "colab": {
          "base_uri": "https://localhost:8080/"
        },
        "id": "cRZ5FqZC7YjY",
        "outputId": "adb81715-1c5b-4e8f-f9e3-c8bce9b777ba"
      },
      "execution_count": 188,
      "outputs": [
        {
          "output_type": "stream",
          "name": "stdout",
          "text": [
            "Model: \"sequential_10\"\n",
            "_________________________________________________________________\n",
            " Layer (type)                Output Shape              Param #   \n",
            "=================================================================\n",
            " conv1d_16 (Conv1D)          (None, 4, 8)              32        \n",
            "                                                                 \n",
            " conv1d_17 (Conv1D)          (None, 2, 8)              200       \n",
            "                                                                 \n",
            " dropout_6 (Dropout)         (None, 2, 8)              0         \n",
            "                                                                 \n",
            " max_pooling1d_6 (MaxPooling  (None, 1, 8)             0         \n",
            " 1D)                                                             \n",
            "                                                                 \n",
            " flatten_6 (Flatten)         (None, 8)                 0         \n",
            "                                                                 \n",
            " dense_11 (Dense)            (None, 100)               900       \n",
            "                                                                 \n",
            " dense_12 (Dense)            (None, 5)                 505       \n",
            "                                                                 \n",
            "=================================================================\n",
            "Total params: 1,637\n",
            "Trainable params: 1,637\n",
            "Non-trainable params: 0\n",
            "_________________________________________________________________\n"
          ]
        }
      ]
    },
    {
      "cell_type": "markdown",
      "source": [
        "##train and evaluate the model"
      ],
      "metadata": {
        "id": "PSexPRrBfqiI"
      }
    },
    {
      "cell_type": "code",
      "source": [
        "# fit network\n",
        "verbose, epochs, batch_size = 0, 60, 32\n",
        "model.fit(X_train_tup, y_train_dl, epochs=epochs, batch_size=batch_size, verbose=verbose)\n",
        "# evaluate model\n",
        "_, score = model.evaluate(X_test_tup, y_test_dl, batch_size=batch_size, verbose=0)"
      ],
      "metadata": {
        "id": "kn94lThl7C4R"
      },
      "execution_count": 197,
      "outputs": []
    },
    {
      "cell_type": "markdown",
      "source": [
        "## model accuracy"
      ],
      "metadata": {
        "id": "Ncxud7UFfttD"
      }
    },
    {
      "cell_type": "code",
      "source": [
        "score"
      ],
      "metadata": {
        "colab": {
          "base_uri": "https://localhost:8080/"
        },
        "id": "SM0Rbt81C3z2",
        "outputId": "3482627c-0873-478b-ec57-3ce15c291655"
      },
      "execution_count": 198,
      "outputs": [
        {
          "output_type": "execute_result",
          "data": {
            "text/plain": [
              "0.3020833432674408"
            ]
          },
          "metadata": {},
          "execution_count": 198
        }
      ]
    },
    {
      "cell_type": "code",
      "source": [
        "np.argmax(model.predict(pd.DataFrame([[3,4,0,3,3,3]])))"
      ],
      "metadata": {
        "colab": {
          "base_uri": "https://localhost:8080/"
        },
        "id": "XCDhNDl0Zd3U",
        "outputId": "f1d4eac1-5905-485a-da0a-92202075ac21"
      },
      "execution_count": 216,
      "outputs": [
        {
          "output_type": "execute_result",
          "data": {
            "text/plain": [
              "1"
            ]
          },
          "metadata": {},
          "execution_count": 216
        }
      ]
    },
    {
      "cell_type": "markdown",
      "source": [
        "Result for \n",
        "- Maintenance = High\n",
        "- Number of doors = 4\n",
        "- Lug Boot Size = Big\n",
        "- Safety = High\n",
        "- Class Value = Good\n",
        "\n",
        "\"low\" for prediction of buying"
      ],
      "metadata": {
        "id": "fC1N3G1_fzDB"
      }
    },
    {
      "cell_type": "code",
      "source": [
        ""
      ],
      "metadata": {
        "id": "1oOql3hmYGs4"
      },
      "execution_count": null,
      "outputs": []
    }
  ],
  "metadata": {
    "anaconda-cloud": {},
    "kernelspec": {
      "display_name": "Python 3",
      "language": "python",
      "name": "python3"
    },
    "language_info": {
      "codemirror_mode": {
        "name": "ipython",
        "version": 3
      },
      "file_extension": ".py",
      "mimetype": "text/x-python",
      "name": "python",
      "nbconvert_exporter": "python",
      "pygments_lexer": "ipython3",
      "version": "3.5.1"
    },
    "colab": {
      "name": "models.ipynb",
      "provenance": [],
      "collapsed_sections": []
    },
    "gpuClass": "standard"
  },
  "nbformat": 4,
  "nbformat_minor": 0
}